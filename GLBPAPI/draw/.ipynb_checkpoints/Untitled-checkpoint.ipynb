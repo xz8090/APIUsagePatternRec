{
 "cells": [
  {
   "cell_type": "code",
   "execution_count": 1,
   "metadata": {},
   "outputs": [],
   "source": [
    "import matplotlib.pyplot as plt\n",
    "import numpy as np"
   ]
  },
  {
   "cell_type": "code",
   "execution_count": null,
   "metadata": {},
   "outputs": [],
   "source": [
    "def adjacent_values(vals, q1, q3):\n",
    "    upper_adjacent_value = q3 + (q3 - q1) * 1.5\n",
    "    upper_adjacent_value = np.clip(upper_adjacent_value, q3, vals[-1])\n",
    "\n",
    "    lower_adjacent_value = q1 - (q3 - q1) * 1.5\n",
    "    lower_adjacent_value = np.clip(lower_adjacent_value, vals[0], q1)\n",
    "    return lower_adjacent_value, upper_adjacent_value\n",
    "\n",
    "\n",
    "def set_axis_style(ax, labels):\n",
    "    ax.get_xaxis().set_tick_params(direction='out')\n",
    "    ax.xaxis.set_ticks_position('bottom')\n",
    "    ax.set_xticks(np.arange(1, len(labels) + 1))\n",
    "    ax.set_xticklabels(labels)\n",
    "    ax.set_xlim(0.25, len(labels) + 0.75)\n",
    "    ax.set_xlabel('Sample name')\n",
    "    \n",
    "def get_percentile(data):\n",
    "    row = len(data)\n",
    "    quartile1 = []\n",
    "    medians = []\n",
    "    quartile3 = []\n",
    "    for i in range(row):\n",
    "        a,b,c = np.percentile([data[i]], [25, 50, 75], axis=1)\n",
    "        quartile1.append(a[0])\n",
    "        medians.append(b[0])\n",
    "        quartile3.append(c[0])\n",
    "    return quartile1, medians, quartile3"
   ]
  },
  {
   "cell_type": "code",
   "execution_count": 88,
   "metadata": {
    "slideshow": {
     "slide_type": "subslide"
    }
   },
   "outputs": [
    {
     "name": "stdout",
     "output_type": "stream",
     "text": [
      "[5.265, 3.641, 4.119] [6.987, 4.297499999999999, 4.593] [20.012, 5.7642500000000005, 5.331]\n"
     ]
    },
    {
     "data": {
      "image/png": "[encoded data removed]",
      "text/plain": [
       "<Figure size 648x288 with 1 Axes>"
      ]
     },
     "metadata": {
      "needs_background": "light"
     },
     "output_type": "display_data"
    }
   ],
   "source": [
    "# create test data\n",
    "np.random.seed(19680801)\n",
    "data = [[6.108,5.048,7.33,3.234,4.55,5.02,3.366,6.935,5.578,5.265,4.582,6.35,6.265,5.986,6.593,3.395,5.598,1.661,8.818,4.075,6.357,6.732,7.379,6.745,3.986,1.77,7.57,6.987,7.781,4.82,3.673,5.277,3.159,9.081,8.463,7.92,4.866,10.658,6.342,8.636,5.5,14.118,13.489,15.117,29.293,27.903,28.188,39.484,32.389,20.012,37.572,41.065,14.761,22.27,28.917,64.223,51.421,61.049,74.45,81.61],\n",
    "        [4.492,7.291,5.793,6.939,3.522,3.286,3.122,2.571,1.569,1.803,4.103,1.61,5.038,4.75,2.151,4.088,4.182,4.232,4.414,5.009,2.644,3.045,5.94,5.329,6.845,4.262,6.045,4.174,4.187,3.752,3.604,6.792,3.868,3.523,5.87,3.908,7.998,5.406,4.276,4.319,9.762,4.847,5.678,4.426,7.16,11.214],\n",
    "        [5.513,4.871,6.792,4.123,4.119,5.331,3.873,3.683,4.593]]\n",
    "\n",
    "\n",
    "fig,ax2 = plt.subplots(nrows=1, ncols=1, figsize=(9, 4), sharey=True)\n",
    "\n",
    "\n",
    "ax2.set_title('Customized violin plot')\n",
    "parts = ax2.violinplot(\n",
    "        data, showmeans=False, showmedians=False,\n",
    "        showextrema=False)\n",
    "\n",
    "for pc in parts['bodies']:\n",
    "    pc.set_facecolor('#D43F3A')\n",
    "    pc.set_edgecolor('black')\n",
    "    pc.set_alpha(1)\n",
    "\n",
    "quartile1, medians, quartile3 = get_percentile(data)\n",
    "print(quartile1, medians, quartile3)\n",
    "whiskers = np.array([\n",
    "    adjacent_values(sorted_array, q1, q3)\n",
    "    for sorted_array, q1, q3 in zip(data, quartile1, quartile3)])\n",
    "whiskers_min, whiskers_max = whiskers[:, 0], whiskers[:, 1]\n",
    "\n",
    "inds = np.arange(1, len(medians) + 1)\n",
    "ax2.scatter(inds, medians, marker='o', color='white', s=30, zorder=3)\n",
    "ax2.vlines(inds, quartile1, quartile3, color='k', linestyle='-', lw=5)\n",
    "ax2.vlines(inds, whiskers_min, whiskers_max, color='k', linestyle='-', lw=1)\n",
    "\n",
    "# set style for the axes\n",
    "labels = ['A', 'B', 'C']\n",
    "for ax in [ax2]:\n",
    "    set_axis_style(ax, labels)\n",
    "\n",
    "plt.subplots_adjust(bottom=0.15, wspace=0.05)\n",
    "plt.show()\n"
   ]
  },
  {
   "cell_type": "code",
   "execution_count": 84,
   "metadata": {},
   "outputs": [
    {
     "name": "stdout",
     "output_type": "stream",
     "text": [
      "[2.25] [3.5] [7.]\n",
      "[6.75] [7.5] [8.25]\n",
      "[5.75] [6.5] [7.25]\n",
      "[2.25, 6.75, 5.75] [3.5, 7.5, 6.5] [7.0, 8.25, 7.25]\n"
     ]
    }
   ],
   "source": [
    "data = [[1,2,3,4,8,8],[6,7,9,8],[8,5]]\n",
    "\n",
    "quartile1, medians, quartile3 = get_percentile(data)\n",
    "print(quartile1, medians, quartile3)\n"
   ]
  }
 ],
 "metadata": {
  "kernelspec": {
   "display_name": "Python 3",
   "language": "python",
   "name": "python3"
  },
  "language_info": {
   "codemirror_mode": {
    "name": "ipython",
    "version": 3
   },
   "file_extension": ".py",
   "mimetype": "text/x-python",
   "name": "python",
   "nbconvert_exporter": "python",
   "pygments_lexer": "ipython3",
   "version": "3.7.0"
  }
 },
 "nbformat": 4,
 "nbformat_minor": 4
}
