{
 "cells": [
  {
   "cell_type": "code",
   "execution_count": 1,
   "metadata": {},
   "outputs": [],
   "source": [
    "import numpy as np\n",
    "import networkx as nx\n",
    "import pickle as pk\n",
    "import torch\n",
    "import matplotlib.pyplot as plt\n",
    "from stellargraph.data import UnsupervisedSampler\n",
    "from tqdm import tqdm\n",
    "\n",
    "from stellargraph import StellarGraph\n",
    "from stellargraph.mapper import GraphSAGENodeGenerator,GraphSAGELinkGenerator\n",
    "from stellargraph.data import EdgeSplitter\n",
    "from stellargraph.layer import GraphSAGE, HinSAGE, link_classification\n",
    "\n",
    "from tensorflow import keras\n",
    "from sklearn import preprocessing, feature_extraction, model_selection\n",
    "\n",
    "from stellargraph import globalvar\n",
    "from stellargraph import datasets\n",
    "from IPython.display import display, HTML\n",
    "\n",
    "import logging\n",
    "import time\n",
    "from collections import defaultdict\n",
    "import os\n",
    "import scipy.sparse as sp\n",
    "import torch\n",
    "from torch.nn import functional as F\n",
    "\n",
    "datasetname = 'SH_S'#有数据集SH_S、SH_L、MV\n",
    "threshold1 = 0.5\n",
    "threshold2 = 0.5\n",
    "batch_size = 4\n",
    "epochs = 3\n",
    "num_samples = [2, 1]\n",
    "layer_sizes = [4, 4]\n",
    "\n",
    "best_suc = [0]*21\n",
    "best_pre = [0]*21\n",
    "best_recall = [0]*21\n",
    "pro_best_suc = [0]*21\n",
    "pro_best_pre = [0]*21\n",
    "pro_best_recall = [0]*21\n",
    "test_config = 'C2.1'"
   ]
  },
  {
   "cell_type": "code",
   "execution_count": 2,
   "metadata": {},
   "outputs": [
    {
     "data": {
      "text/plain": [
       "{0, 1, 2, 3, 4, 5, 6, 7}"
      ]
     },
     "execution_count": 2,
     "metadata": {},
     "output_type": "execute_result"
    }
   ],
   "source": [
    "data = {\n",
    "    'ua':[0,1,2],\n",
    "    'u1':[1,2,3],\n",
    "    'u2':[3,4],\n",
    "    'u3':[2,5],\n",
    "    'u4':[6,7]\n",
    "}\n",
    "nodes = (set([i for a in data for i in data[a]]))\n",
    "nodes"
   ]
  },
  {
   "cell_type": "code",
   "execution_count": 3,
   "metadata": {},
   "outputs": [
    {
     "name": "stderr",
     "output_type": "stream",
     "text": [
      "100%|██████████| 8/8 [00:00<00:00, 67108.86it/s]\n"
     ]
    }
   ],
   "source": [
    "g = nx.Graph()\n",
    "nodes = set([i for a in data for i in data[a]])\n",
    "# 顶点\n",
    "point = []\n",
    "for i in nodes:\n",
    "    point.append(i)\n",
    "g.add_nodes_from(point)\n",
    "# 边\n",
    "edglist = []\n",
    "edges = set()\n",
    "for a in data:\n",
    "    items = data[a]\n",
    "    for i in range(len(items)):\n",
    "        for j in range(i+1,len(items)):\n",
    "            edges.add((items[i],items[j]))\n",
    "            \n",
    "    \n",
    "for edg in tqdm(edges):\n",
    "    edglist.append((edg[0],edg[1],1))\n",
    "\n",
    "g.add_weighted_edges_from(edglist)\n"
   ]
  },
  {
   "cell_type": "code",
   "execution_count": 4,
   "metadata": {},
   "outputs": [
    {
     "data": {
      "image/png": "[encoded data removed]",
      "text/plain": [
       "<Figure size 432x288 with 1 Axes>"
      ]
     },
     "metadata": {},
     "output_type": "display_data"
    }
   ],
   "source": [
    "position = nx.random_layout(g)\n",
    "nx.draw_networkx_nodes(g,position, nodelist=point, node_size=600,node_color=\"#4572C3\")\n",
    "nx.draw_networkx_edges(g,position,width=[float(d['weight']) for (u,v,d) in g.edges(data=True)],edge_color=\"#4572C3\")\n",
    "nx.draw_networkx_labels(g,position,font_size=16,font_color=\"white\")\n",
    "plt.show()"
   ]
  },
  {
   "cell_type": "code",
   "execution_count": 29,
   "metadata": {},
   "outputs": [],
   "source": [
    "g_feature_attr = g.copy()\n",
    "for node_id, node_data in g_feature_attr.nodes(data=True):\n",
    "    A=[0]*len(nodes)\n",
    "    node_data[\"feature\"] = A[node_id]\n",
    "    "
   ]
  },
  {
   "cell_type": "code",
   "execution_count": 5,
   "metadata": {},
   "outputs": [],
   "source": [
    "def compute_features(node_id):\n",
    "    A = [0]*len(nodes)\n",
    "    A[node_id] = 1\n",
    "    return A\n",
    "\n",
    "def get_node_embeddings(g):\n",
    "    g_feature_attr = g.copy()\n",
    "    for node_id, node_data in g_feature_attr.nodes(data=True):\n",
    "        A=[0]*len(nodes)\n",
    "        node_data[\"feature\"] = compute_features(node_id)\n",
    "\n",
    "    G = StellarGraph.from_networkx(\n",
    "        g_feature_attr, node_features=\"feature\", node_type_default=\"API\", edge_type_default=\"Attribute\"\n",
    "    )\n",
    "    \n",
    "    edge_splitter_test = EdgeSplitter(G)\n",
    "\n",
    "    # Randomly sample a fraction p=0.1 of all positive links, and same number of negative links, from G, and obtain the\n",
    "    # reduced graph G_test with the sampled links removed:\n",
    "    G_test, edge_ids_test, edge_labels_test = edge_splitter_test.train_test_split()\n",
    "    # Define an edge splitter on the reduced graph G_test:\n",
    "    edge_splitter_train = EdgeSplitter(G_test)\n",
    "\n",
    "    # Randomly sample a fraction p=0.1 of all positive links, and same number of negative links, from G_test, and obtain the\n",
    "    # reduced graph G_train with the sampled links removed:\n",
    "    G_train, edge_ids_train, edge_labels_train = edge_splitter_train.train_test_split()\n",
    "\n",
    "    train_gen = GraphSAGELinkGenerator(G_train, batch_size, num_samples)\n",
    "    train_flow = train_gen.flow(edge_ids_train, edge_labels_train, shuffle=True)\n",
    "    test_gen = GraphSAGELinkGenerator(G_test, batch_size, num_samples)\n",
    "    test_flow = test_gen.flow(edge_ids_test, edge_labels_test)\n",
    "    graphsage = GraphSAGE(\n",
    "        layer_sizes=layer_sizes, generator=train_gen, bias=True, dropout=0.3\n",
    "    )\n",
    "    x_inp, x_out = graphsage.in_out_tensors()\n",
    "    prediction = link_classification(\n",
    "        output_dim=1, output_act=\"relu\", edge_embedding_method=\"ip\"\n",
    "    )(x_out)\n",
    "    model = keras.Model(inputs=x_inp, outputs=prediction)\n",
    "\n",
    "    model.compile(\n",
    "        optimizer=keras.optimizers.Adam(lr=1e-3),\n",
    "        loss=keras.losses.binary_crossentropy,\n",
    "        metrics=[keras.metrics.binary_accuracy],\n",
    "    )\n",
    "    history = model.fit(train_flow, epochs=epochs, validation_data=test_flow, verbose=2)\n",
    "    x_inp_src = x_inp[0::2]\n",
    "    x_out_src = x_out[0]\n",
    "    embedding_model = keras.Model(inputs=x_inp_src, outputs=x_out_src)\n",
    "    node_ids = G_train.nodes()\n",
    "    node_gen = GraphSAGENodeGenerator(G_train, batch_size, num_samples).flow(node_ids)\n",
    "    node_embeddings = embedding_model.predict(node_gen, workers=4, verbose=1)\n",
    "    return node_embeddings"
   ]
  },
  {
   "cell_type": "code",
   "execution_count": 6,
   "metadata": {},
   "outputs": [
    {
     "name": "stdout",
     "output_type": "stream",
     "text": [
      "** Sampled 4 positive and 4 negative edges. **\n",
      "** Sampled 2 positive and 2 negative edges. **\n",
      "link_classification: using 'ip' method to combine node embeddings into edge embeddings\n"
     ]
    },
    {
     "name": "stderr",
     "output_type": "stream",
     "text": [
      "/root/anaconda3/lib/python3.6/site-packages/tensorflow/python/keras/optimizer_v2/optimizer_v2.py:375: UserWarning: The `lr` argument is deprecated, use `learning_rate` instead.\n",
      "  \"The `lr` argument is deprecated, use `learning_rate` instead.\")\n"
     ]
    },
    {
     "name": "stdout",
     "output_type": "stream",
     "text": [
      "Epoch 1/3\n",
      "1/1 - 2s - loss: 7.7484 - binary_accuracy: 0.5000 - val_loss: 2.6497 - val_binary_accuracy: 0.5000\n",
      "Epoch 2/3\n",
      "1/1 - 0s - loss: 0.1482 - binary_accuracy: 1.0000 - val_loss: 2.7174 - val_binary_accuracy: 0.6250\n",
      "Epoch 3/3\n",
      "1/1 - 0s - loss: 4.4425 - binary_accuracy: 0.5000 - val_loss: 2.5500 - val_binary_accuracy: 0.5000\n",
      "2/2 [==============================] - 0s 98ms/step\n"
     ]
    },
    {
     "data": {
      "text/plain": [
       "array([[-0.22120154, -0.97522163,  0.00287034, -0.00207436],\n",
       "       [ 0.38087073,  0.61849636,  0.24833745,  0.64088076],\n",
       "       [-0.07363716, -0.08316898,  0.43810904,  0.89203197],\n",
       "       [ 0.22420573,  0.35640982,  0.26101184,  0.8686637 ],\n",
       "       [-0.24504842, -0.96950924,  0.00140986, -0.00101889],\n",
       "       [ 0.45116216,  0.77910674, -0.28227788,  0.33130738],\n",
       "       [ 0.09385336,  0.9300834 ,  0.28785494, -0.20802884],\n",
       "       [ 0.09385336,  0.9300834 ,  0.28785494, -0.20802884]],\n",
       "      dtype=float32)"
      ]
     },
     "execution_count": 6,
     "metadata": {},
     "output_type": "execute_result"
    }
   ],
   "source": [
    "node_embeddings = get_node_embeddings(g)\n",
    "node_embeddings"
   ]
  },
  {
   "cell_type": "code",
   "execution_count": 9,
   "metadata": {},
   "outputs": [],
   "source": [
    "def cosine_similarity(vector1, vector2):\n",
    "    dot_product = 0.0\n",
    "    normA = 0.0\n",
    "    normB = 0.0\n",
    "    for a, b in zip(vector1, vector2):\n",
    "        dot_product += a * b\n",
    "        normA += a ** 2\n",
    "        normB += b ** 2\n",
    "    if normA == 0.0 or normB == 0.0:\n",
    "        return 0\n",
    "    else:\n",
    "        return round(dot_product / ((normA**0.5)*(normB**0.5)), 2)\n"
   ]
  },
  {
   "cell_type": "code",
   "execution_count": 11,
   "metadata": {},
   "outputs": [
    {
     "name": "stdout",
     "output_type": "stream",
     "text": [
      "0 1 -0.69\n",
      "0 2 0.1\n",
      "0 3 -0.4\n",
      "1 2 0.6\n",
      "1 3 0.93\n",
      "2 3 0.84\n"
     ]
    }
   ],
   "source": [
    "for i in range(len(node_embeddings)):\n",
    "    for j in range(i+1,len(node_embeddings[i])):\n",
    "        print(i,j,cosine_similarity(node_embeddings[i],node_embeddings[j]))"
   ]
  }
 ],
 "metadata": {
  "kernelspec": {
   "display_name": "Python 3",
   "language": "python",
   "name": "python3"
  },
  "language_info": {
   "codemirror_mode": {
    "name": "ipython",
    "version": 3
   },
   "file_extension": ".py",
   "mimetype": "text/x-python",
   "name": "python",
   "nbconvert_exporter": "python",
   "pygments_lexer": "ipython3",
   "version": "3.6.5"
  }
 },
 "nbformat": 4,
 "nbformat_minor": 2
}
