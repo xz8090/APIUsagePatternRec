{
 "cells": [
  {
   "cell_type": "code",
   "execution_count": 1,
   "metadata": {},
   "outputs": [
    {
     "name": "stderr",
     "output_type": "stream",
     "text": [
      "100%|██████████| 4442/4442 [00:00<00:00, 176876.40it/s]\n",
      "  2%|▏         | 106/4442 [00:00<00:04, 967.60it/s]"
     ]
    },
    {
     "name": "stdout",
     "output_type": "stream",
     "text": [
      "load dataset from disk.\n",
      "total user methods:4442, test_proj:{129, 130, 4, 5, 7, 12, 16, 145, 18, 146, 150, 22, 152, 154, 159, 33, 37, 170, 44, 45, 177, 179, 180, 182, 183, 55, 185, 60, 61, 189, 74, 80, 83, 98, 106, 107, 111, 122, 123, 125}\n",
      "test set methods count:175, invocations:1407\n",
      "load train datas ...\n",
      "train set methods count:4442, invocation: 111099\n"
     ]
    },
    {
     "name": "stderr",
     "output_type": "stream",
     "text": [
      "100%|██████████| 4442/4442 [00:06<00:00, 693.43it/s]\n",
      "100%|██████████| 4442/4442 [00:00<00:00, 95711.96it/s]\n",
      "  1%|          | 452/68050 [00:00<00:30, 2247.42it/s]"
     ]
    },
    {
     "name": "stdout",
     "output_type": "stream",
     "text": [
      "build_my_new_adj_matrix finish\n"
     ]
    },
    {
     "name": "stderr",
     "output_type": "stream",
     "text": [
      "100%|██████████| 68050/68050 [00:29<00:00, 2277.38it/s]\n"
     ]
    },
    {
     "name": "stdout",
     "output_type": "stream",
     "text": [
      "** Sampled 6332 positive and 6332 negative edges. **\n",
      "** Sampled 5699 positive and 5699 negative edges. **\n",
      "link_classification: using 'ip' method to combine node embeddings into edge embeddings\n"
     ]
    },
    {
     "name": "stderr",
     "output_type": "stream",
     "text": [
      "/root/anaconda3/lib/python3.6/site-packages/tensorflow/python/keras/optimizer_v2/optimizer_v2.py:375: UserWarning: The `lr` argument is deprecated, use `learning_rate` instead.\n",
      "  \"The `lr` argument is deprecated, use `learning_rate` instead.\")\n"
     ]
    },
    {
     "name": "stdout",
     "output_type": "stream",
     "text": [
      "Epoch 1/20\n",
      "90/90 - 66s - loss: 0.6039 - binary_accuracy: 0.6812 - val_loss: 0.5621 - val_binary_accuracy: 0.7271\n",
      "Epoch 2/20\n",
      "90/90 - 62s - loss: 0.5156 - binary_accuracy: 0.7581 - val_loss: 0.4810 - val_binary_accuracy: 0.7674\n",
      "Epoch 3/20\n",
      "90/90 - 64s - loss: 0.4718 - binary_accuracy: 0.7847 - val_loss: 0.4320 - val_binary_accuracy: 0.7944\n",
      "Epoch 4/20\n",
      "90/90 - 63s - loss: 0.4440 - binary_accuracy: 0.8035 - val_loss: 0.4332 - val_binary_accuracy: 0.8010\n",
      "Epoch 5/20\n",
      "90/90 - 61s - loss: 0.4329 - binary_accuracy: 0.8111 - val_loss: 0.4167 - val_binary_accuracy: 0.8122\n",
      "Epoch 6/20\n",
      "90/90 - 60s - loss: 0.4257 - binary_accuracy: 0.8222 - val_loss: 0.4017 - val_binary_accuracy: 0.8163\n",
      "Epoch 7/20\n",
      "90/90 - 61s - loss: 0.4090 - binary_accuracy: 0.8225 - val_loss: 0.4083 - val_binary_accuracy: 0.8194\n",
      "Epoch 8/20\n",
      "90/90 - 60s - loss: 0.4014 - binary_accuracy: 0.8280 - val_loss: 0.4116 - val_binary_accuracy: 0.8136\n",
      "Epoch 9/20\n",
      "90/90 - 61s - loss: 0.4472 - binary_accuracy: 0.7866 - val_loss: 0.4097 - val_binary_accuracy: 0.8078\n",
      "Epoch 10/20\n",
      "90/90 - 66s - loss: 0.4242 - binary_accuracy: 0.8115 - val_loss: 0.4098 - val_binary_accuracy: 0.8099\n",
      "Epoch 11/20\n",
      "90/90 - 60s - loss: 0.4222 - binary_accuracy: 0.8159 - val_loss: 0.3948 - val_binary_accuracy: 0.8208\n",
      "Epoch 12/20\n",
      "90/90 - 60s - loss: 0.4017 - binary_accuracy: 0.8281 - val_loss: 0.3887 - val_binary_accuracy: 0.8214\n",
      "Epoch 13/20\n",
      "90/90 - 59s - loss: 0.3927 - binary_accuracy: 0.8277 - val_loss: 0.4068 - val_binary_accuracy: 0.8148\n",
      "Epoch 14/20\n",
      "90/90 - 60s - loss: 0.3913 - binary_accuracy: 0.8274 - val_loss: 0.3795 - val_binary_accuracy: 0.8286\n",
      "Epoch 15/20\n",
      "90/90 - 59s - loss: 0.4059 - binary_accuracy: 0.8199 - val_loss: 0.4204 - val_binary_accuracy: 0.8017\n",
      "Epoch 16/20\n",
      "90/90 - 59s - loss: 0.3921 - binary_accuracy: 0.8333 - val_loss: 0.3887 - val_binary_accuracy: 0.8264\n",
      "Epoch 17/20\n",
      "90/90 - 91s - loss: 0.3791 - binary_accuracy: 0.8363 - val_loss: 0.3999 - val_binary_accuracy: 0.8194\n",
      "Epoch 18/20\n",
      "90/90 - 59s - loss: 0.3868 - binary_accuracy: 0.8357 - val_loss: 0.3842 - val_binary_accuracy: 0.8300\n",
      "Epoch 19/20\n",
      "90/90 - 60s - loss: 0.3825 - binary_accuracy: 0.8412 - val_loss: 0.3819 - val_binary_accuracy: 0.8320\n",
      "Epoch 20/20\n",
      "90/90 - 64s - loss: 0.3775 - binary_accuracy: 0.8422 - val_loss: 0.3810 - val_binary_accuracy: 0.8286\n",
      "42/42 [==============================] - 10s 221ms/step\n"
     ]
    },
    {
     "name": "stderr",
     "output_type": "stream",
     "text": [
      "  1%|          | 1/175 [00:00<00:47,  3.65it/s]"
     ]
    },
    {
     "name": "stdout",
     "output_type": "stream",
     "text": [
      "5351\n",
      "5351\n"
     ]
    },
    {
     "name": "stderr",
     "output_type": "stream",
     "text": [
      "  2%|▏         | 3/175 [00:01<01:24,  2.03it/s]"
     ]
    },
    {
     "name": "stdout",
     "output_type": "stream",
     "text": [
      "5351\n"
     ]
    },
    {
     "name": "stderr",
     "output_type": "stream",
     "text": [
      "\r",
      "  2%|▏         | 4/175 [00:01<01:08,  2.51it/s]"
     ]
    },
    {
     "name": "stdout",
     "output_type": "stream",
     "text": [
      "5351\n"
     ]
    },
    {
     "name": "stderr",
     "output_type": "stream",
     "text": [
      "\r",
      "  3%|▎         | 5/175 [00:01<00:51,  3.27it/s]"
     ]
    },
    {
     "name": "stdout",
     "output_type": "stream",
     "text": [
      "5351\n",
      "5351\n"
     ]
    },
    {
     "name": "stderr",
     "output_type": "stream",
     "text": [
      "\r",
      "  3%|▎         | 6/175 [00:02<00:53,  3.18it/s]"
     ]
    },
    {
     "name": "stdout",
     "output_type": "stream",
     "text": [
      "5351\n"
     ]
    },
    {
     "name": "stderr",
     "output_type": "stream",
     "text": [
      "\r",
      "  4%|▍         | 7/175 [00:02<01:05,  2.55it/s]"
     ]
    },
    {
     "name": "stdout",
     "output_type": "stream",
     "text": [
      "5351\n"
     ]
    },
    {
     "name": "stderr",
     "output_type": "stream",
     "text": [
      "\r",
      "  5%|▍         | 8/175 [00:03<01:20,  2.07it/s]"
     ]
    },
    {
     "name": "stdout",
     "output_type": "stream",
     "text": [
      "5351\n"
     ]
    },
    {
     "name": "stderr",
     "output_type": "stream",
     "text": [
      "\r",
      "  5%|▌         | 9/175 [00:04<01:54,  1.46it/s]"
     ]
    },
    {
     "name": "stdout",
     "output_type": "stream",
     "text": [
      "5351\n"
     ]
    },
    {
     "name": "stderr",
     "output_type": "stream",
     "text": [
      "\r",
      "  6%|▌         | 10/175 [00:05<01:51,  1.48it/s]"
     ]
    },
    {
     "name": "stdout",
     "output_type": "stream",
     "text": [
      "5351\n"
     ]
    },
    {
     "name": "stderr",
     "output_type": "stream",
     "text": [
      "  7%|▋         | 12/175 [00:06<01:27,  1.86it/s]"
     ]
    },
    {
     "name": "stdout",
     "output_type": "stream",
     "text": [
      "5351\n"
     ]
    },
    {
     "name": "stderr",
     "output_type": "stream",
     "text": [
      "\r",
      "  7%|▋         | 13/175 [00:06<01:12,  2.25it/s]"
     ]
    },
    {
     "name": "stdout",
     "output_type": "stream",
     "text": [
      "5351\n"
     ]
    },
    {
     "name": "stderr",
     "output_type": "stream",
     "text": [
      "\r",
      "  8%|▊         | 14/175 [00:06<01:00,  2.68it/s]"
     ]
    },
    {
     "name": "stdout",
     "output_type": "stream",
     "text": [
      "5351\n",
      "5351\n"
     ]
    },
    {
     "name": "stderr",
     "output_type": "stream",
     "text": [
      " 10%|▉         | 17/175 [00:07<00:48,  3.23it/s]"
     ]
    },
    {
     "name": "stdout",
     "output_type": "stream",
     "text": [
      "5351\n",
      "5351\n",
      "5351\n"
     ]
    },
    {
     "name": "stderr",
     "output_type": "stream",
     "text": [
      "\r",
      " 10%|█         | 18/175 [00:08<01:00,  2.58it/s]"
     ]
    },
    {
     "name": "stdout",
     "output_type": "stream",
     "text": [
      "5351\n"
     ]
    },
    {
     "name": "stderr",
     "output_type": "stream",
     "text": [
      " 11%|█▏        | 20/175 [00:09<01:12,  2.13it/s]"
     ]
    },
    {
     "name": "stdout",
     "output_type": "stream",
     "text": [
      "5351\n"
     ]
    },
    {
     "name": "stderr",
     "output_type": "stream",
     "text": [
      "\r",
      " 12%|█▏        | 21/175 [00:09<00:55,  2.78it/s]"
     ]
    },
    {
     "name": "stdout",
     "output_type": "stream",
     "text": [
      "5351\n",
      "5351\n"
     ]
    },
    {
     "name": "stderr",
     "output_type": "stream",
     "text": [
      " 14%|█▎        | 24/175 [00:10<00:40,  3.74it/s]"
     ]
    },
    {
     "name": "stdout",
     "output_type": "stream",
     "text": [
      "5351\n",
      "5351\n"
     ]
    },
    {
     "name": "stderr",
     "output_type": "stream",
     "text": [
      "\r",
      " 14%|█▍        | 25/175 [00:10<00:53,  2.81it/s]"
     ]
    },
    {
     "name": "stdout",
     "output_type": "stream",
     "text": [
      "5351\n",
      "5351\n"
     ]
    },
    {
     "name": "stderr",
     "output_type": "stream",
     "text": [
      " 15%|█▌        | 27/175 [00:11<00:59,  2.47it/s]"
     ]
    },
    {
     "name": "stdout",
     "output_type": "stream",
     "text": [
      "5351\n",
      "5351\n",
      "5351\n"
     ]
    },
    {
     "name": "stderr",
     "output_type": "stream",
     "text": [
      " 18%|█▊        | 31/175 [00:11<00:29,  4.90it/s]"
     ]
    },
    {
     "name": "stdout",
     "output_type": "stream",
     "text": [
      "5351\n",
      "5351\n"
     ]
    },
    {
     "name": "stderr",
     "output_type": "stream",
     "text": [
      "\r",
      " 18%|█▊        | 32/175 [00:12<00:29,  4.88it/s]"
     ]
    },
    {
     "name": "stdout",
     "output_type": "stream",
     "text": [
      "5351\n",
      "5351\n"
     ]
    },
    {
     "name": "stderr",
     "output_type": "stream",
     "text": [
      " 20%|██        | 35/175 [00:13<00:30,  4.58it/s]"
     ]
    },
    {
     "name": "stdout",
     "output_type": "stream",
     "text": [
      "5351\n",
      "5351\n"
     ]
    },
    {
     "name": "stderr",
     "output_type": "stream",
     "text": [
      "\r",
      " 21%|██        | 36/175 [00:13<00:32,  4.27it/s]"
     ]
    },
    {
     "name": "stdout",
     "output_type": "stream",
     "text": [
      "5351\n",
      "5351\n"
     ]
    },
    {
     "name": "stderr",
     "output_type": "stream",
     "text": [
      " 22%|██▏       | 39/175 [00:13<00:30,  4.50it/s]"
     ]
    },
    {
     "name": "stdout",
     "output_type": "stream",
     "text": [
      "5351\n",
      "5351\n"
     ]
    },
    {
     "name": "stderr",
     "output_type": "stream",
     "text": [
      "\r",
      " 23%|██▎       | 40/175 [00:14<00:25,  5.37it/s]"
     ]
    },
    {
     "name": "stdout",
     "output_type": "stream",
     "text": [
      "5351\n",
      "5351\n"
     ]
    },
    {
     "name": "stderr",
     "output_type": "stream",
     "text": [
      "\r",
      " 23%|██▎       | 41/175 [00:14<00:27,  4.87it/s]"
     ]
    },
    {
     "name": "stdout",
     "output_type": "stream",
     "text": [
      "5351\n"
     ]
    },
    {
     "name": "stderr",
     "output_type": "stream",
     "text": [
      " 25%|██▌       | 44/175 [00:15<00:28,  4.65it/s]"
     ]
    },
    {
     "name": "stdout",
     "output_type": "stream",
     "text": [
      "5351\n",
      "5351\n"
     ]
    },
    {
     "name": "stderr",
     "output_type": "stream",
     "text": [
      "\r",
      " 26%|██▌       | 45/175 [00:15<00:24,  5.32it/s]"
     ]
    },
    {
     "name": "stdout",
     "output_type": "stream",
     "text": [
      "5351\n",
      "5351\n"
     ]
    },
    {
     "name": "stderr",
     "output_type": "stream",
     "text": [
      " 27%|██▋       | 48/175 [00:15<00:19,  6.39it/s]"
     ]
    },
    {
     "name": "stdout",
     "output_type": "stream",
     "text": [
      "5351\n",
      "5351\n"
     ]
    },
    {
     "name": "stderr",
     "output_type": "stream",
     "text": [
      "\r",
      " 28%|██▊       | 49/175 [00:15<00:20,  6.21it/s]"
     ]
    },
    {
     "name": "stdout",
     "output_type": "stream",
     "text": [
      "5351\n",
      "5351\n"
     ]
    },
    {
     "name": "stderr",
     "output_type": "stream",
     "text": [
      "\r",
      " 29%|██▊       | 50/175 [00:15<00:20,  6.23it/s]"
     ]
    },
    {
     "name": "stdout",
     "output_type": "stream",
     "text": [
      "5351\n"
     ]
    },
    {
     "name": "stderr",
     "output_type": "stream",
     "text": [
      " 30%|██▉       | 52/175 [00:16<00:24,  4.96it/s]"
     ]
    },
    {
     "name": "stdout",
     "output_type": "stream",
     "text": [
      "5351\n",
      "5351\n"
     ]
    },
    {
     "name": "stderr",
     "output_type": "stream",
     "text": [
      " 31%|███▏      | 55/175 [00:16<00:18,  6.57it/s]"
     ]
    },
    {
     "name": "stdout",
     "output_type": "stream",
     "text": [
      "5351\n",
      "5351\n"
     ]
    },
    {
     "name": "stderr",
     "output_type": "stream",
     "text": [
      " 33%|███▎      | 57/175 [00:17<00:15,  7.40it/s]"
     ]
    },
    {
     "name": "stdout",
     "output_type": "stream",
     "text": [
      "5351\n",
      "5351\n"
     ]
    },
    {
     "name": "stderr",
     "output_type": "stream",
     "text": [
      " 34%|███▎      | 59/175 [00:17<00:14,  7.82it/s]"
     ]
    },
    {
     "name": "stdout",
     "output_type": "stream",
     "text": [
      "5351\n",
      "5351\n"
     ]
    },
    {
     "name": "stderr",
     "output_type": "stream",
     "text": [
      " 35%|███▍      | 61/175 [00:17<00:14,  8.07it/s]"
     ]
    },
    {
     "name": "stdout",
     "output_type": "stream",
     "text": [
      "5351\n",
      "5351\n"
     ]
    },
    {
     "name": "stderr",
     "output_type": "stream",
     "text": [
      " 36%|███▌      | 63/175 [00:17<00:14,  7.98it/s]"
     ]
    },
    {
     "name": "stdout",
     "output_type": "stream",
     "text": [
      "5351\n",
      "5351\n"
     ]
    },
    {
     "name": "stderr",
     "output_type": "stream",
     "text": [
      "\r",
      " 37%|███▋      | 64/175 [00:18<00:13,  7.99it/s]"
     ]
    },
    {
     "name": "stdout",
     "output_type": "stream",
     "text": [
      "5351\n",
      "5351\n"
     ]
    },
    {
     "name": "stderr",
     "output_type": "stream",
     "text": [
      " 38%|███▊      | 66/175 [00:18<00:29,  3.71it/s]"
     ]
    },
    {
     "name": "stdout",
     "output_type": "stream",
     "text": [
      "5351\n"
     ]
    },
    {
     "name": "stderr",
     "output_type": "stream",
     "text": [
      " 39%|███▉      | 68/175 [00:18<00:20,  5.18it/s]"
     ]
    },
    {
     "name": "stdout",
     "output_type": "stream",
     "text": [
      "5351\n",
      "5351\n"
     ]
    },
    {
     "name": "stderr",
     "output_type": "stream",
     "text": [
      " 40%|████      | 70/175 [00:19<00:16,  6.24it/s]"
     ]
    },
    {
     "name": "stdout",
     "output_type": "stream",
     "text": [
      "5351\n",
      "5351\n"
     ]
    },
    {
     "name": "stderr",
     "output_type": "stream",
     "text": [
      " 41%|████      | 72/175 [00:19<00:13,  7.37it/s]"
     ]
    },
    {
     "name": "stdout",
     "output_type": "stream",
     "text": [
      "5351\n",
      "5351\n"
     ]
    },
    {
     "name": "stderr",
     "output_type": "stream",
     "text": [
      "\r",
      " 42%|████▏     | 73/175 [00:19<00:15,  6.42it/s]"
     ]
    },
    {
     "name": "stdout",
     "output_type": "stream",
     "text": [
      "5351\n",
      "5351\n"
     ]
    },
    {
     "name": "stderr",
     "output_type": "stream",
     "text": [
      " 43%|████▎     | 75/175 [00:20<00:23,  4.23it/s]"
     ]
    },
    {
     "name": "stdout",
     "output_type": "stream",
     "text": [
      "5351\n",
      "5351\n"
     ]
    },
    {
     "name": "stderr",
     "output_type": "stream",
     "text": [
      "\r",
      " 43%|████▎     | 76/175 [00:20<00:25,  3.82it/s]"
     ]
    },
    {
     "name": "stdout",
     "output_type": "stream",
     "text": [
      "5351\n"
     ]
    },
    {
     "name": "stderr",
     "output_type": "stream",
     "text": [
      " 45%|████▍     | 78/175 [00:21<00:33,  2.87it/s]"
     ]
    },
    {
     "name": "stdout",
     "output_type": "stream",
     "text": [
      "5351\n",
      "5351\n"
     ]
    },
    {
     "name": "stderr",
     "output_type": "stream",
     "text": [
      "\r",
      " 45%|████▌     | 79/175 [00:21<00:32,  2.98it/s]"
     ]
    },
    {
     "name": "stdout",
     "output_type": "stream",
     "text": [
      "5351\n"
     ]
    },
    {
     "name": "stderr",
     "output_type": "stream",
     "text": [
      " 46%|████▋     | 81/175 [00:22<00:28,  3.27it/s]"
     ]
    },
    {
     "name": "stdout",
     "output_type": "stream",
     "text": [
      "5351\n",
      "5351\n"
     ]
    },
    {
     "name": "stderr",
     "output_type": "stream",
     "text": [
      "\r",
      " 47%|████▋     | 82/175 [00:22<00:25,  3.58it/s]"
     ]
    },
    {
     "name": "stdout",
     "output_type": "stream",
     "text": [
      "5351\n"
     ]
    },
    {
     "name": "stderr",
     "output_type": "stream",
     "text": [
      "\r",
      " 47%|████▋     | 83/175 [00:23<00:31,  2.92it/s]"
     ]
    },
    {
     "name": "stdout",
     "output_type": "stream",
     "text": [
      "5351\n"
     ]
    },
    {
     "name": "stderr",
     "output_type": "stream",
     "text": [
      " 49%|████▊     | 85/175 [00:23<00:27,  3.26it/s]"
     ]
    },
    {
     "name": "stdout",
     "output_type": "stream",
     "text": [
      "5351\n",
      "5351\n"
     ]
    },
    {
     "name": "stderr",
     "output_type": "stream",
     "text": [
      " 50%|████▉     | 87/175 [00:24<00:22,  3.84it/s]"
     ]
    },
    {
     "name": "stdout",
     "output_type": "stream",
     "text": [
      "5351\n",
      "5351\n"
     ]
    },
    {
     "name": "stderr",
     "output_type": "stream",
     "text": [
      " 51%|█████     | 89/175 [00:24<00:19,  4.44it/s]"
     ]
    },
    {
     "name": "stdout",
     "output_type": "stream",
     "text": [
      "5351\n",
      "5351\n"
     ]
    },
    {
     "name": "stderr",
     "output_type": "stream",
     "text": [
      " 52%|█████▏    | 91/175 [00:25<00:30,  2.71it/s]"
     ]
    },
    {
     "name": "stdout",
     "output_type": "stream",
     "text": [
      "5351\n",
      "5351\n"
     ]
    },
    {
     "name": "stderr",
     "output_type": "stream",
     "text": [
      "\r",
      " 53%|█████▎    | 92/175 [00:26<00:35,  2.36it/s]"
     ]
    },
    {
     "name": "stdout",
     "output_type": "stream",
     "text": [
      "5351\n"
     ]
    },
    {
     "name": "stderr",
     "output_type": "stream",
     "text": [
      " 54%|█████▍    | 95/175 [00:26<00:19,  4.18it/s]"
     ]
    },
    {
     "name": "stdout",
     "output_type": "stream",
     "text": [
      "5351\n",
      "5351\n",
      "5351\n"
     ]
    },
    {
     "name": "stderr",
     "output_type": "stream",
     "text": [
      "\r",
      " 55%|█████▍    | 96/175 [00:27<00:25,  3.15it/s]"
     ]
    },
    {
     "name": "stdout",
     "output_type": "stream",
     "text": [
      "5351\n"
     ]
    },
    {
     "name": "stderr",
     "output_type": "stream",
     "text": [
      "\r",
      " 55%|█████▌    | 97/175 [00:27<00:28,  2.70it/s]"
     ]
    },
    {
     "name": "stdout",
     "output_type": "stream",
     "text": [
      "5351\n"
     ]
    },
    {
     "name": "stderr",
     "output_type": "stream",
     "text": [
      " 57%|█████▋    | 99/175 [00:28<00:32,  2.32it/s]"
     ]
    },
    {
     "name": "stdout",
     "output_type": "stream",
     "text": [
      "5351\n"
     ]
    },
    {
     "name": "stderr",
     "output_type": "stream",
     "text": [
      " 58%|█████▊    | 101/175 [00:29<00:25,  2.89it/s]"
     ]
    },
    {
     "name": "stdout",
     "output_type": "stream",
     "text": [
      "5351\n",
      "5351\n"
     ]
    },
    {
     "name": "stderr",
     "output_type": "stream",
     "text": [
      "\r",
      " 58%|█████▊    | 102/175 [00:29<00:20,  3.60it/s]"
     ]
    },
    {
     "name": "stdout",
     "output_type": "stream",
     "text": [
      "5351\n",
      "5351\n",
      "5351\n"
     ]
    },
    {
     "name": "stderr",
     "output_type": "stream",
     "text": [
      " 61%|██████    | 106/175 [00:29<00:11,  6.19it/s]"
     ]
    },
    {
     "name": "stdout",
     "output_type": "stream",
     "text": [
      "5351\n",
      "5351\n"
     ]
    },
    {
     "name": "stderr",
     "output_type": "stream",
     "text": [
      " 62%|██████▏   | 108/175 [00:30<00:09,  6.90it/s]"
     ]
    },
    {
     "name": "stdout",
     "output_type": "stream",
     "text": [
      "5351\n",
      "5351\n"
     ]
    },
    {
     "name": "stderr",
     "output_type": "stream",
     "text": [
      " 63%|██████▎   | 110/175 [00:30<00:08,  7.81it/s]"
     ]
    },
    {
     "name": "stdout",
     "output_type": "stream",
     "text": [
      "5351\n",
      "5351\n",
      "5351\n"
     ]
    },
    {
     "name": "stderr",
     "output_type": "stream",
     "text": [
      " 65%|██████▍   | 113/175 [00:31<00:13,  4.65it/s]"
     ]
    },
    {
     "name": "stdout",
     "output_type": "stream",
     "text": [
      "5351\n",
      "5351\n",
      "5351\n"
     ]
    },
    {
     "name": "stderr",
     "output_type": "stream",
     "text": [
      "\r",
      " 65%|██████▌   | 114/175 [00:31<00:20,  2.97it/s]"
     ]
    },
    {
     "name": "stdout",
     "output_type": "stream",
     "text": [
      "5351\n"
     ]
    },
    {
     "name": "stderr",
     "output_type": "stream",
     "text": [
      "\r",
      " 66%|██████▌   | 115/175 [00:32<00:24,  2.42it/s]"
     ]
    },
    {
     "name": "stdout",
     "output_type": "stream",
     "text": [
      "5351\n"
     ]
    },
    {
     "name": "stderr",
     "output_type": "stream",
     "text": [
      "\r",
      " 66%|██████▋   | 116/175 [00:33<00:27,  2.15it/s]"
     ]
    },
    {
     "name": "stdout",
     "output_type": "stream",
     "text": [
      "5351\n"
     ]
    },
    {
     "name": "stderr",
     "output_type": "stream",
     "text": [
      " 68%|██████▊   | 119/175 [00:33<00:17,  3.16it/s]"
     ]
    },
    {
     "name": "stdout",
     "output_type": "stream",
     "text": [
      "5351\n",
      "5351\n"
     ]
    },
    {
     "name": "stderr",
     "output_type": "stream",
     "text": [
      "\r",
      " 69%|██████▊   | 120/175 [00:34<00:14,  3.73it/s]"
     ]
    },
    {
     "name": "stdout",
     "output_type": "stream",
     "text": [
      "5351\n",
      "5351\n"
     ]
    },
    {
     "name": "stderr",
     "output_type": "stream",
     "text": [
      " 70%|██████▉   | 122/175 [00:34<00:11,  4.70it/s]"
     ]
    },
    {
     "name": "stdout",
     "output_type": "stream",
     "text": [
      "5351\n",
      "5351\n"
     ]
    },
    {
     "name": "stderr",
     "output_type": "stream",
     "text": [
      " 71%|███████▏  | 125/175 [00:34<00:08,  6.17it/s]"
     ]
    },
    {
     "name": "stdout",
     "output_type": "stream",
     "text": [
      "5351\n",
      "5351\n"
     ]
    },
    {
     "name": "stderr",
     "output_type": "stream",
     "text": [
      "\r",
      " 72%|███████▏  | 126/175 [00:34<00:09,  5.36it/s]"
     ]
    },
    {
     "name": "stdout",
     "output_type": "stream",
     "text": [
      "5351\n"
     ]
    },
    {
     "name": "stderr",
     "output_type": "stream",
     "text": [
      " 73%|███████▎  | 128/175 [00:35<00:07,  5.92it/s]"
     ]
    },
    {
     "name": "stdout",
     "output_type": "stream",
     "text": [
      "5351\n",
      "5351\n"
     ]
    },
    {
     "name": "stderr",
     "output_type": "stream",
     "text": [
      "\r",
      " 74%|███████▍  | 130/175 [00:35<00:06,  7.45it/s]"
     ]
    },
    {
     "name": "stdout",
     "output_type": "stream",
     "text": [
      "5351\n",
      "5351\n",
      "5351\n"
     ]
    },
    {
     "name": "stderr",
     "output_type": "stream",
     "text": [
      " 75%|███████▌  | 132/175 [00:35<00:06,  6.95it/s]"
     ]
    },
    {
     "name": "stdout",
     "output_type": "stream",
     "text": [
      "5351\n",
      "5351\n"
     ]
    },
    {
     "name": "stderr",
     "output_type": "stream",
     "text": [
      " 77%|███████▋  | 135/175 [00:36<00:06,  5.89it/s]"
     ]
    },
    {
     "name": "stdout",
     "output_type": "stream",
     "text": [
      "5351\n",
      "5351\n"
     ]
    },
    {
     "name": "stderr",
     "output_type": "stream",
     "text": [
      "\r",
      " 78%|███████▊  | 136/175 [00:36<00:08,  4.67it/s]"
     ]
    },
    {
     "name": "stdout",
     "output_type": "stream",
     "text": [
      "5351\n"
     ]
    },
    {
     "name": "stderr",
     "output_type": "stream",
     "text": [
      " 79%|███████▉  | 138/175 [00:37<00:06,  5.79it/s]"
     ]
    },
    {
     "name": "stdout",
     "output_type": "stream",
     "text": [
      "5351\n",
      "5351\n"
     ]
    },
    {
     "name": "stderr",
     "output_type": "stream",
     "text": [
      " 80%|████████  | 140/175 [00:37<00:05,  6.86it/s]"
     ]
    },
    {
     "name": "stdout",
     "output_type": "stream",
     "text": [
      "5351\n",
      "5351\n",
      "5351\n"
     ]
    },
    {
     "name": "stderr",
     "output_type": "stream",
     "text": [
      " 82%|████████▏ | 143/175 [00:38<00:07,  4.13it/s]"
     ]
    },
    {
     "name": "stdout",
     "output_type": "stream",
     "text": [
      "5351\n",
      "5351\n"
     ]
    },
    {
     "name": "stderr",
     "output_type": "stream",
     "text": [
      "\r",
      " 82%|████████▏ | 144/175 [00:38<00:06,  4.94it/s]"
     ]
    },
    {
     "name": "stdout",
     "output_type": "stream",
     "text": [
      "5351\n",
      "5351\n"
     ]
    },
    {
     "name": "stderr",
     "output_type": "stream",
     "text": [
      "\r",
      " 83%|████████▎ | 145/175 [00:38<00:07,  4.16it/s]"
     ]
    },
    {
     "name": "stdout",
     "output_type": "stream",
     "text": [
      "5351\n"
     ]
    },
    {
     "name": "stderr",
     "output_type": "stream",
     "text": [
      " 85%|████████▍ | 148/175 [00:39<00:05,  4.77it/s]"
     ]
    },
    {
     "name": "stdout",
     "output_type": "stream",
     "text": [
      "5351\n",
      "5351\n"
     ]
    },
    {
     "name": "stderr",
     "output_type": "stream",
     "text": [
      "\r",
      " 85%|████████▌ | 149/175 [00:39<00:05,  4.80it/s]"
     ]
    },
    {
     "name": "stdout",
     "output_type": "stream",
     "text": [
      "5351\n",
      "5351\n"
     ]
    },
    {
     "name": "stderr",
     "output_type": "stream",
     "text": [
      " 86%|████████▋ | 151/175 [00:40<00:08,  2.73it/s]"
     ]
    },
    {
     "name": "stdout",
     "output_type": "stream",
     "text": [
      "5351\n",
      "5351\n"
     ]
    },
    {
     "name": "stderr",
     "output_type": "stream",
     "text": [
      " 88%|████████▊ | 154/175 [00:41<00:04,  4.94it/s]"
     ]
    },
    {
     "name": "stdout",
     "output_type": "stream",
     "text": [
      "5351\n",
      "5351\n"
     ]
    },
    {
     "name": "stderr",
     "output_type": "stream",
     "text": [
      "\r",
      " 89%|████████▊ | 155/175 [00:41<00:04,  4.23it/s]"
     ]
    },
    {
     "name": "stdout",
     "output_type": "stream",
     "text": [
      "5351\n",
      "5351\n"
     ]
    },
    {
     "name": "stderr",
     "output_type": "stream",
     "text": [
      " 90%|█████████ | 158/175 [00:42<00:04,  4.23it/s]"
     ]
    },
    {
     "name": "stdout",
     "output_type": "stream",
     "text": [
      "5351\n",
      "5351\n"
     ]
    },
    {
     "name": "stderr",
     "output_type": "stream",
     "text": [
      "\r",
      " 91%|█████████ | 159/175 [00:42<00:03,  4.51it/s]"
     ]
    },
    {
     "name": "stdout",
     "output_type": "stream",
     "text": [
      "5351\n",
      "5351\n"
     ]
    },
    {
     "name": "stderr",
     "output_type": "stream",
     "text": [
      " 92%|█████████▏| 161/175 [00:43<00:03,  3.97it/s]"
     ]
    },
    {
     "name": "stdout",
     "output_type": "stream",
     "text": [
      "5351\n",
      "5351\n"
     ]
    },
    {
     "name": "stderr",
     "output_type": "stream",
     "text": [
      " 93%|█████████▎| 163/175 [00:43<00:02,  5.29it/s]"
     ]
    },
    {
     "name": "stdout",
     "output_type": "stream",
     "text": [
      "5351\n",
      "5351\n"
     ]
    },
    {
     "name": "stderr",
     "output_type": "stream",
     "text": [
      " 94%|█████████▍| 165/175 [00:43<00:01,  6.24it/s]"
     ]
    },
    {
     "name": "stdout",
     "output_type": "stream",
     "text": [
      "5351\n",
      "5351\n"
     ]
    },
    {
     "name": "stderr",
     "output_type": "stream",
     "text": [
      " 96%|█████████▌| 168/175 [00:44<00:01,  6.89it/s]"
     ]
    },
    {
     "name": "stdout",
     "output_type": "stream",
     "text": [
      "5351\n",
      "5351\n",
      "5351\n"
     ]
    },
    {
     "name": "stderr",
     "output_type": "stream",
     "text": [
      "\r",
      " 97%|█████████▋| 169/175 [00:44<00:01,  4.05it/s]"
     ]
    },
    {
     "name": "stdout",
     "output_type": "stream",
     "text": [
      "5351\n"
     ]
    },
    {
     "name": "stderr",
     "output_type": "stream",
     "text": [
      " 98%|█████████▊| 171/175 [00:45<00:01,  2.79it/s]"
     ]
    },
    {
     "name": "stdout",
     "output_type": "stream",
     "text": [
      "5351\n",
      "5351\n"
     ]
    },
    {
     "name": "stderr",
     "output_type": "stream",
     "text": [
      " 99%|█████████▉| 174/175 [00:46<00:00,  3.48it/s]"
     ]
    },
    {
     "name": "stdout",
     "output_type": "stream",
     "text": [
      "5351\n",
      "5351\n"
     ]
    },
    {
     "name": "stderr",
     "output_type": "stream",
     "text": [
      "100%|██████████| 175/175 [00:46<00:00,  3.76it/s]\n"
     ]
    },
    {
     "name": "stdout",
     "output_type": "stream",
     "text": [
      "5351\n"
     ]
    }
   ],
   "source": [
    "import numpy as np\n",
    "import networkx as nx\n",
    "import pickle as pk\n",
    "import torch\n",
    "import matplotlib.pyplot as plt\n",
    "from stellargraph.data import UnsupervisedSampler\n",
    "from tqdm import tqdm\n",
    "\n",
    "from stellargraph import StellarGraph\n",
    "from stellargraph.mapper import GraphSAGENodeGenerator,GraphSAGELinkGenerator\n",
    "from stellargraph.data import EdgeSplitter\n",
    "from stellargraph.layer import GraphSAGE, HinSAGE, link_classification\n",
    "\n",
    "from tensorflow import keras\n",
    "from sklearn import preprocessing, feature_extraction, model_selection\n",
    "\n",
    "from stellargraph import globalvar\n",
    "from stellargraph import datasets\n",
    "from IPython.display import display, HTML\n",
    "\n",
    "import logging\n",
    "import time\n",
    "from collections import defaultdict\n",
    "import os\n",
    "import scipy.sparse as sp\n",
    "import torch\n",
    "from torch.nn import functional as F\n",
    "\n",
    "datasetname = 'SH_S'#有数据集SH_S、SH_L、MV\n",
    "threshold1 = 0.5\n",
    "threshold2 = 0.5\n",
    "batch_size = 128\n",
    "epochs = 20\n",
    "sample_size1 = 20\n",
    "sample_size2 = 30\n",
    "num_samples = [sample_size1, sample_size2]\n",
    "layer_sizes = [64, 64]\n",
    "\n",
    "best_suc = [0]*21\n",
    "best_pre = [0]*21\n",
    "best_recall = [0]*21\n",
    "pro_best_suc = [0]*21\n",
    "pro_best_pre = [0]*21\n",
    "pro_best_recall = [0]*21\n",
    "test_config = 'C2.1'\n",
    "\n",
    "def getg(data):\n",
    "    g = nx.Graph()\n",
    "    n = len(data.item_method_id)\n",
    "    # 顶点\n",
    "    point = []\n",
    "    for i in range(n):\n",
    "        point.append(i)\n",
    "    g.add_nodes_from(point)\n",
    "    # 边权重\n",
    "    edglist = []\n",
    "    edges = set()\n",
    "    for user, items in tqdm(data.invocation_mx.items()):\n",
    "        for i in range(len(items)):\n",
    "            for j in range(i+1,len(items)):\n",
    "                edges.add((items[i],items[j]))\n",
    "    \n",
    "    for edg in tqdm(edges):\n",
    "        weight = float(data.adj[edg[0],edg[1]])\n",
    "        edglist.append((edg[0],edg[1],weight))\n",
    "        #edglist.append((edg[0],edg[1]))\n",
    "\n",
    "    g.add_weighted_edges_from(edglist)\n",
    "    #g.add_edges_from(edglist)\n",
    "    return g\n",
    "\n",
    "def to_torch_sparse_tensor(sparse_mx):\n",
    "    \"\"\"Convert a scipy sparse matrix to a torch sparse tensor.\"\"\"\n",
    "    sparse_mx = sparse_mx.tocoo().astype(np.float32)\n",
    "    indices = torch.from_numpy(np.vstack((sparse_mx.row, sparse_mx.col)).astype(np.int64))\n",
    "    values = torch.from_numpy(sparse_mx.data)\n",
    "    shape = torch.Size(sparse_mx.shape)\n",
    "    return torch.sparse.FloatTensor(indices, values, shape)\n",
    "\n",
    "def build_my_new_adj_matrix(data,train_dict):\n",
    "    n = len(data.item_method_id)\n",
    "    A = sp.dok_matrix((n, n), dtype=np.float32)\n",
    "    FD = defaultdict(int)\n",
    "    for user, items in tqdm(train_dict.items()):\n",
    "        for i in range(len(items)):\n",
    "            FD[items[i]] += 1\n",
    "            for j in range(i+1,len(items)):\n",
    "                if A[items[i],items[j]] == 0:\n",
    "                    A[items[i],items[j]] = A[items[j],items[i]] = len(data.invocation_mx.items())\n",
    "                else:\n",
    "                    A[items[i], items[j]] = A[items[j], items[i]] = A[items[j], items[i]] + len(data.invocation_mx.items())\n",
    "    print('build_my_new_adj_matrix finish')\n",
    "    data.FD = FD\n",
    "    data.adj = to_torch_sparse_tensor(A)\n",
    "    \n",
    "\n",
    "def load_mydata(dataset_name):\n",
    "    name = './tmp/%s-mydata.pk' % dataset_name\n",
    "    if not os.path.exists(name):\n",
    "        print('no file.')\n",
    "    with open(name, 'rb') as f:\n",
    "        data = pk.load(f)\n",
    "        print('load dataset from disk.')\n",
    "    #data.adj = to_torch_sparse_tensor(data.adj)\n",
    "    return data\n",
    "\n",
    "def get_node_embeddings(data):\n",
    "    g = getg(data)\n",
    "    g_feature_attr = g.copy()\n",
    "    for node_id, node_data in g_feature_attr.nodes(data=True):\n",
    "        node_data[\"feature\"] = data.item_pre_emb[node_id].numpy()\n",
    "\n",
    "    G = StellarGraph.from_networkx(\n",
    "        g_feature_attr, node_features=\"feature\", node_type_default=\"API\", edge_type_default=\"Attribute\"\n",
    "    )\n",
    "    edge_splitter_test = EdgeSplitter(G)\n",
    "\n",
    "    # Randomly sample a fraction p=0.1 of all positive links, and same number of negative links, from G, and obtain the\n",
    "    # reduced graph G_test with the sampled links removed:\n",
    "    G_test, edge_ids_test, edge_labels_test = edge_splitter_test.train_test_split(\n",
    "        p=0.1, method=\"global\", keep_connected=True\n",
    "    )\n",
    "    # Define an edge splitter on the reduced graph G_test:\n",
    "    edge_splitter_train = EdgeSplitter(G_test)\n",
    "\n",
    "    # Randomly sample a fraction p=0.1 of all positive links, and same number of negative links, from G_test, and obtain the\n",
    "    # reduced graph G_train with the sampled links removed:\n",
    "    G_train, edge_ids_train, edge_labels_train = edge_splitter_train.train_test_split(\n",
    "        p=0.1, method=\"global\", keep_connected=True\n",
    "    )\n",
    "\n",
    "    train_gen = GraphSAGELinkGenerator(G_train, batch_size, num_samples)\n",
    "    train_flow = train_gen.flow(edge_ids_train, edge_labels_train, shuffle=True)\n",
    "    test_gen = GraphSAGELinkGenerator(G_test, batch_size, num_samples)\n",
    "    test_flow = test_gen.flow(edge_ids_test, edge_labels_test)\n",
    "    graphsage = GraphSAGE(\n",
    "        layer_sizes=layer_sizes, generator=train_gen, bias=True, dropout=0.3\n",
    "    )\n",
    "    x_inp, x_out = graphsage.in_out_tensors()\n",
    "    prediction = link_classification(\n",
    "        output_dim=1, output_act=\"relu\", edge_embedding_method=\"ip\"\n",
    "    )(x_out)\n",
    "    model = keras.Model(inputs=x_inp, outputs=prediction)\n",
    "\n",
    "    model.compile(\n",
    "        optimizer=keras.optimizers.Adam(lr=1e-3),\n",
    "        loss=keras.losses.binary_crossentropy,\n",
    "        metrics=[keras.metrics.binary_accuracy],\n",
    "    )\n",
    "    history = model.fit(train_flow, epochs=epochs, validation_data=test_flow, verbose=2)\n",
    "    x_inp_src = x_inp[0::2]\n",
    "    x_out_src = x_out[0]\n",
    "    embedding_model = keras.Model(inputs=x_inp_src, outputs=x_out_src)\n",
    "    node_ids = G_train.nodes()\n",
    "    node_gen = GraphSAGENodeGenerator(G_train, batch_size, num_samples).flow(node_ids)\n",
    "    node_embeddings = embedding_model.predict(node_gen, workers=4, verbose=1)\n",
    "    return node_embeddings\n",
    "\n",
    "#threshold1取值（0，1）表示考虑节点相似特征的阈值，值越大候选特征节点越少\n",
    "#threshold2取值（0，1）表示节点属性特征的重要性，越小越不重要\n",
    "def build_new_relation(ratings,threshold1 = 0.8,threshold2 = 0.001):\n",
    "    dataset = load_mydata(datasetname)\n",
    "    n = len(ratings)\n",
    "    for i in tqdm(range(n)):\n",
    "        for j in range(i+1,n):\n",
    "            simily = float(ratings[i][j])\n",
    "            if simily >= threshold1:\n",
    "                dataset.adj[i,j] = threshold2*simily\n",
    "    return dataset\n",
    "    \n",
    "def get_my_top_items(tensor):\n",
    "    item_dict = {}\n",
    "    for i in tqdm(range(len(tensor))):\n",
    "        if tensor[i].item() !=0 :\n",
    "            item_dict[i] = tensor[i].item()\n",
    "    #print('get_my_top_items==>item_dict',item_dict)\n",
    "    top_items = [item[0] for item in sorted(item_dict.items(),key=lambda item:item[1],reverse=True)]\n",
    "    #print('get_my_top_items==>top_items',top_items)\n",
    "    return top_items[:21]\n",
    "\n",
    "def get_my_top_items2(data,adj,Q,ratings,a,b):\n",
    "    #链路预测\n",
    "    diag = torch.diag(ratings) #获取对角为一维向量\n",
    "    diag_embed = torch.diag_embed(diag)  # 由diag恢复为对角矩阵\n",
    "    link_embed = ratings - diag_embed\n",
    "    rowsoftmax = F.softmax(link_embed,dim=1)\n",
    "    link_q1 = torch.zeros(size=[len(rowsoftmax[0])])\n",
    "    for q in Q:\n",
    "        link_q1 = link_q1 + rowsoftmax[q]\n",
    "        \n",
    "    #贝叶斯预测\n",
    "    M = len(data.invocation_mx.items())\n",
    "    D = set()\n",
    "    FD = data.FD\n",
    "    \n",
    "    for q in Q:\n",
    "        tensor = adj[q]\n",
    "        for i in range(len(tensor)):\n",
    "            if tensor[i].item() != 0:\n",
    "                D.add(i)\n",
    "\n",
    "    link_q2 = torch.zeros(size=[len(adj)])\n",
    "    print(len(link_q2))\n",
    "    for d in D:\n",
    "        fd = FD[d]\n",
    "        fdq = 1\n",
    "        for q in Q:\n",
    "            tensor = adj[q]\n",
    "            fdq = fdq*(tensor[d].item()*1.0/fd)\n",
    "        #利用贝叶斯求得d被预测的概率\n",
    "        p2 = fdq*fd*1.0/M\n",
    "        link_q2[d] = p2\n",
    "    \n",
    "\n",
    "    link_q = link_q1*a+link_q2*b\n",
    "    arr,top_items = torch.sort(link_q,descending=True)\n",
    "    top_items = top_items[:21]\n",
    "    #top_items = [item[0] for item in sorted(item_dict.items(), key=lambda item: item[1], reverse=True)]\n",
    "    # print('get_my_top_items==>top_items',top_items)\n",
    "    return top_items.numpy()\n",
    "\n",
    "def myeval(dataset,ratings,a,b):\n",
    "    test_set = dataset.test_dict\n",
    "    logger.info('test start. test set size: %d' % len(test_set))\n",
    "    t1 = time.time()\n",
    "    users = np.asarray(list(test_set.keys()))  # 训练集的方法编号数组\n",
    "\n",
    "    top_items = []\n",
    "    used_items = []\n",
    "\n",
    "    for userid in tqdm(users):\n",
    "        used_items.append(set(dataset.train_dict[userid]))\n",
    "        #print(dataset.train_dict[userid],dataset.train_dict[userid][0])\n",
    "        #top_items.append(get_my_top_items(dataset.adj[dataset.train_dict[userid][0]]))\n",
    "        top_items.append(get_my_top_items2(dataset,dataset.adj,dataset.train_dict[userid],ratings,a,b))\n",
    "\n",
    "    #print('myeval2=>top_items',top_items)\n",
    "    #print('myeval2=>used_items', used_items)\n",
    "\n",
    "    items = []\n",
    "    for i, item in enumerate(top_items):  # 第i个测试方法推荐的API列表item\n",
    "        # if i<=20:\n",
    "        rec_item = [tid for tid in item if tid not in used_items[i]]\n",
    "        # print(rec_item)\n",
    "        items.append(rec_item[:20])\n",
    "\n",
    "    def getMAP(N):\n",
    "        qarr = []\n",
    "        for i, uid in enumerate(users):\n",
    "            r = 0\n",
    "            drarr = []\n",
    "            for k in range(1, N+1):\n",
    "                intersect = set(items[i][:k]) & set(test_set[uid])\n",
    "                p = len(intersect) / k\n",
    "                newr = len(intersect) / len(set(test_set[uid]))\n",
    "                dr = (newr-r)*p\n",
    "                drarr.append(dr)\n",
    "                r = newr\n",
    "            qarr.append(np.sum(drarr))\n",
    "        return np.sum(qarr)/len(qarr)\n",
    "     \n",
    "    def res_at_k(k):\n",
    "        suc_methods = []\n",
    "        precisions = []\n",
    "        recalls = []\n",
    "        proj_suc = defaultdict(list)\n",
    "        proj_pre = defaultdict(list)\n",
    "        proj_recall = defaultdict(list)\n",
    "\n",
    "        for i, uid in enumerate(users):\n",
    "            pid = dataset.test_user2proj[uid]\n",
    "            intersect = set(items[i][:k]) & set(test_set[uid])\n",
    "            if len(intersect) > 0:\n",
    "                suc_methods.append(uid)\n",
    "                proj_suc[pid].append(1)\n",
    "            else:\n",
    "                logger.debug('failed uid %d' % uid)\n",
    "                logger.debug('GT:{}, REC:{}'.format(test_set[uid], items[i]))\n",
    "                proj_suc[pid].append(0)\n",
    "            p = len(intersect) / k\n",
    "            r = len(intersect) / len(set(test_set[uid]))\n",
    "            precisions.append(p)\n",
    "            recalls.append(r)\n",
    "            proj_pre[pid].append(p)\n",
    "            proj_recall[pid].append(r)\n",
    "        suc_rate = len(suc_methods) / len(users)\n",
    "        logger.info('----------------------result@%d--------------------------' % k)\n",
    "        logger.info('success rate at method level %f' % (suc_rate))\n",
    "        logger.info('mean precision:%f, mean recall:%f' % (np.mean(precisions), np.mean(recalls)))\n",
    "\n",
    "        suc_project = [np.mean(val) for val in proj_suc.values()]\n",
    "        pres = [np.mean(val) for val in proj_pre.values()]\n",
    "        recs = [np.mean(val) for val in proj_recall.values()]\n",
    "        logger.info('**********************************************************')\n",
    "        logger.info('success rate at project level %f' % (np.mean(np.mean(suc_project))))\n",
    "        logger.info('mean precision:%f, mean recall:%f' % (np.mean(pres), np.mean(recs)))\n",
    "        return suc_rate, np.mean(precisions), np.mean(recalls),np.mean(np.mean(suc_project)),np.mean(pres), np.mean(recs)\n",
    "\n",
    "    t2 = time.time()\n",
    "    logger.info('test end time: {}s'.format(t2 - t1))\n",
    "    for i in range(1, 21):\n",
    "        suc, pre, rec, pro_suc, pro_pre, pro_rec = res_at_k(i)\n",
    "        if suc > best_suc[i]:\n",
    "            best_suc[i] = suc\n",
    "        if pre > best_pre[i]:\n",
    "            best_pre[i] = pre\n",
    "        if rec > best_recall[i]:\n",
    "            best_recall[i] = rec\n",
    "        logger.warning('method level => top %d : best suc %f, best pre %f,  best recall %f' % (i, best_suc[i], best_pre[i], best_recall[i]))\n",
    "\n",
    "        if pro_suc > pro_best_suc[i]:\n",
    "            pro_best_suc[i] = pro_suc\n",
    "        if pro_pre > pro_best_pre[i]:\n",
    "            pro_best_pre[i] = pro_pre\n",
    "        if pro_rec > pro_best_recall[i]:\n",
    "            pro_best_recall[i] = pro_rec\n",
    "        logger.warning('project level => top %d : best suc %f, best pre %f,  best recall %f' % (i, pro_best_suc[i], pro_best_pre[i], pro_best_recall[i]))\n",
    "\n",
    "    logger.info('MAP: %f' % (getMAP(20)))\n",
    "    \n",
    "#载入数据并划分数据集\n",
    "data = load_mydata(datasetname)\n",
    "data.split_data(test_config)\n",
    "build_my_new_adj_matrix(data,data.train_dict)\n",
    "now = time.strftime(\"%Y-%m-%d-%H_%M_%S\",time.localtime(time.time())) \n",
    "\n",
    "logging.basicConfig(format='%(asctime)s-%(levelname)s:%(message)s',\n",
    "                    filename='./log/GLAPI-GraphSAGE_SHS_sample1_'+str(sample_size1)+'_sample_size2_'+str(sample_size2)+'_'+now+'.log',\n",
    "                    filemode='a', level=logging.INFO)\n",
    "logger = logging.getLogger(__name__)\n",
    "t1 = time.time()\n",
    "node_embeddings = get_node_embeddings(data)\n",
    "t2 = time.time()\n",
    "logger.warning('train time : %d' % (t2-t1))\n",
    "#得到节点嵌入和链接相似性\n",
    "api_embeddings = torch.from_numpy(node_embeddings)\n",
    "ratings = api_embeddings.mm(api_embeddings.transpose(0, 1))\n",
    "myeval(data,ratings,threshold1,threshold2)"
   ]
  }
 ],
 "metadata": {
  "kernelspec": {
   "display_name": "Python 3",
   "language": "python",
   "name": "python3"
  },
  "language_info": {
   "codemirror_mode": {
    "name": "ipython",
    "version": 3
   },
   "file_extension": ".py",
   "mimetype": "text/x-python",
   "name": "python",
   "nbconvert_exporter": "python",
   "pygments_lexer": "ipython3",
   "version": "3.6.5"
  }
 },
 "nbformat": 4,
 "nbformat_minor": 2
}
